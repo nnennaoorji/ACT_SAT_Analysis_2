{
 "cells": [
  {
   "cell_type": "code",
   "execution_count": 1,
   "id": "a4a98552",
   "metadata": {},
   "outputs": [],
   "source": [
    "#imports\n",
    "import pandas as pd\n",
    "import numpy as np\n",
    "import seaborn as sns\n",
    "import matplotlib.pyplot as plt\n",
    "import matplotlib.dates as mdates\n",
    "import matplotlib.ticker as mtick"
   ]
  },
  {
   "cell_type": "code",
   "execution_count": 2,
   "id": "88fb9f04",
   "metadata": {},
   "outputs": [
    {
     "name": "stdout",
     "output_type": "stream",
     "text": [
      "Requirement already satisfied: matplotlib==3.6.3 in /Users/nnenna/opt/anaconda3/lib/python3.8/site-packages (3.6.3)\n",
      "Requirement already satisfied: kiwisolver>=1.0.1 in /Users/nnenna/opt/anaconda3/lib/python3.8/site-packages (from matplotlib==3.6.3) (1.3.1)\n",
      "Requirement already satisfied: cycler>=0.10 in /Users/nnenna/opt/anaconda3/lib/python3.8/site-packages (from matplotlib==3.6.3) (0.10.0)\n",
      "Requirement already satisfied: numpy>=1.19 in /Users/nnenna/opt/anaconda3/lib/python3.8/site-packages (from matplotlib==3.6.3) (1.20.1)\n",
      "Requirement already satisfied: pyparsing>=2.2.1 in /Users/nnenna/opt/anaconda3/lib/python3.8/site-packages (from matplotlib==3.6.3) (2.4.7)\n",
      "Requirement already satisfied: contourpy>=1.0.1 in /Users/nnenna/opt/anaconda3/lib/python3.8/site-packages (from matplotlib==3.6.3) (1.0.7)\n",
      "Requirement already satisfied: fonttools>=4.22.0 in /Users/nnenna/opt/anaconda3/lib/python3.8/site-packages (from matplotlib==3.6.3) (4.38.0)\n",
      "Requirement already satisfied: packaging>=20.0 in /Users/nnenna/opt/anaconda3/lib/python3.8/site-packages (from matplotlib==3.6.3) (20.9)\n",
      "Requirement already satisfied: python-dateutil>=2.7 in /Users/nnenna/opt/anaconda3/lib/python3.8/site-packages (from matplotlib==3.6.3) (2.8.1)\n",
      "Requirement already satisfied: pillow>=6.2.0 in /Users/nnenna/opt/anaconda3/lib/python3.8/site-packages (from matplotlib==3.6.3) (8.2.0)\n",
      "Requirement already satisfied: six in /Users/nnenna/opt/anaconda3/lib/python3.8/site-packages (from cycler>=0.10->matplotlib==3.6.3) (1.15.0)\n",
      "Note: you may need to restart the kernel to use updated packages.\n"
     ]
    }
   ],
   "source": [
    "#pip install matplotlib==3.6.3"
   ]
  },
  {
   "cell_type": "code",
   "execution_count": 3,
   "id": "628c0931",
   "metadata": {},
   "outputs": [],
   "source": [
    "#read in cleaned data\n",
    "sat= pd.read_csv('../dataset/sat_cleaned.csv')\n",
    "act= pd.read_csv('../dataset/sat_cleaned.csv')\n",
    "act_and_sat= pd.read_csv('../dataset/act_sat_merged.csv')\n"
   ]
  },
  {
   "cell_type": "code",
   "execution_count": 4,
   "id": "2df8c499",
   "metadata": {},
   "outputs": [
    {
     "data": {
      "text/html": [
       "<div>\n",
       "<style scoped>\n",
       "    .dataframe tbody tr th:only-of-type {\n",
       "        vertical-align: middle;\n",
       "    }\n",
       "\n",
       "    .dataframe tbody tr th {\n",
       "        vertical-align: top;\n",
       "    }\n",
       "\n",
       "    .dataframe thead th {\n",
       "        text-align: right;\n",
       "    }\n",
       "</style>\n",
       "<table border=\"1\" class=\"dataframe\">\n",
       "  <thead>\n",
       "    <tr style=\"text-align: right;\">\n",
       "      <th></th>\n",
       "      <th>Unnamed: 0</th>\n",
       "      <th>state</th>\n",
       "      <th>sat_participation(%)</th>\n",
       "      <th>ebrw</th>\n",
       "      <th>math</th>\n",
       "      <th>sat_total</th>\n",
       "      <th>year</th>\n",
       "    </tr>\n",
       "  </thead>\n",
       "  <tbody>\n",
       "    <tr>\n",
       "      <th>0</th>\n",
       "      <td>0</td>\n",
       "      <td>Alabama</td>\n",
       "      <td>5</td>\n",
       "      <td>593</td>\n",
       "      <td>572</td>\n",
       "      <td>1165</td>\n",
       "      <td>2017</td>\n",
       "    </tr>\n",
       "    <tr>\n",
       "      <th>1</th>\n",
       "      <td>1</td>\n",
       "      <td>Alaska</td>\n",
       "      <td>38</td>\n",
       "      <td>547</td>\n",
       "      <td>533</td>\n",
       "      <td>1080</td>\n",
       "      <td>2017</td>\n",
       "    </tr>\n",
       "    <tr>\n",
       "      <th>2</th>\n",
       "      <td>2</td>\n",
       "      <td>Arizona</td>\n",
       "      <td>30</td>\n",
       "      <td>563</td>\n",
       "      <td>553</td>\n",
       "      <td>1116</td>\n",
       "      <td>2017</td>\n",
       "    </tr>\n",
       "    <tr>\n",
       "      <th>3</th>\n",
       "      <td>3</td>\n",
       "      <td>Arkansas</td>\n",
       "      <td>3</td>\n",
       "      <td>614</td>\n",
       "      <td>594</td>\n",
       "      <td>1208</td>\n",
       "      <td>2017</td>\n",
       "    </tr>\n",
       "    <tr>\n",
       "      <th>4</th>\n",
       "      <td>4</td>\n",
       "      <td>California</td>\n",
       "      <td>53</td>\n",
       "      <td>531</td>\n",
       "      <td>524</td>\n",
       "      <td>1055</td>\n",
       "      <td>2017</td>\n",
       "    </tr>\n",
       "  </tbody>\n",
       "</table>\n",
       "</div>"
      ],
      "text/plain": [
       "   Unnamed: 0       state  sat_participation(%)  ebrw  math  sat_total  year\n",
       "0           0     Alabama                     5   593   572       1165  2017\n",
       "1           1      Alaska                    38   547   533       1080  2017\n",
       "2           2     Arizona                    30   563   553       1116  2017\n",
       "3           3    Arkansas                     3   614   594       1208  2017\n",
       "4           4  California                    53   531   524       1055  2017"
      ]
     },
     "execution_count": 4,
     "metadata": {},
     "output_type": "execute_result"
    }
   ],
   "source": [
    "sat.head()"
   ]
  },
  {
   "cell_type": "code",
   "execution_count": 5,
   "id": "a67e4518",
   "metadata": {},
   "outputs": [
    {
     "data": {
      "text/html": [
       "<div>\n",
       "<style scoped>\n",
       "    .dataframe tbody tr th:only-of-type {\n",
       "        vertical-align: middle;\n",
       "    }\n",
       "\n",
       "    .dataframe tbody tr th {\n",
       "        vertical-align: top;\n",
       "    }\n",
       "\n",
       "    .dataframe thead th {\n",
       "        text-align: right;\n",
       "    }\n",
       "</style>\n",
       "<table border=\"1\" class=\"dataframe\">\n",
       "  <thead>\n",
       "    <tr style=\"text-align: right;\">\n",
       "      <th></th>\n",
       "      <th>state</th>\n",
       "      <th>sat_participation(%)</th>\n",
       "      <th>ebrw</th>\n",
       "      <th>math</th>\n",
       "      <th>sat_total</th>\n",
       "      <th>year</th>\n",
       "    </tr>\n",
       "  </thead>\n",
       "  <tbody>\n",
       "    <tr>\n",
       "      <th>0</th>\n",
       "      <td>Alabama</td>\n",
       "      <td>5</td>\n",
       "      <td>593</td>\n",
       "      <td>572</td>\n",
       "      <td>1165</td>\n",
       "      <td>2017</td>\n",
       "    </tr>\n",
       "    <tr>\n",
       "      <th>1</th>\n",
       "      <td>Alaska</td>\n",
       "      <td>38</td>\n",
       "      <td>547</td>\n",
       "      <td>533</td>\n",
       "      <td>1080</td>\n",
       "      <td>2017</td>\n",
       "    </tr>\n",
       "    <tr>\n",
       "      <th>2</th>\n",
       "      <td>Arizona</td>\n",
       "      <td>30</td>\n",
       "      <td>563</td>\n",
       "      <td>553</td>\n",
       "      <td>1116</td>\n",
       "      <td>2017</td>\n",
       "    </tr>\n",
       "    <tr>\n",
       "      <th>3</th>\n",
       "      <td>Arkansas</td>\n",
       "      <td>3</td>\n",
       "      <td>614</td>\n",
       "      <td>594</td>\n",
       "      <td>1208</td>\n",
       "      <td>2017</td>\n",
       "    </tr>\n",
       "    <tr>\n",
       "      <th>4</th>\n",
       "      <td>California</td>\n",
       "      <td>53</td>\n",
       "      <td>531</td>\n",
       "      <td>524</td>\n",
       "      <td>1055</td>\n",
       "      <td>2017</td>\n",
       "    </tr>\n",
       "  </tbody>\n",
       "</table>\n",
       "</div>"
      ],
      "text/plain": [
       "        state  sat_participation(%)  ebrw  math  sat_total  year\n",
       "0     Alabama                     5   593   572       1165  2017\n",
       "1      Alaska                    38   547   533       1080  2017\n",
       "2     Arizona                    30   563   553       1116  2017\n",
       "3    Arkansas                     3   614   594       1208  2017\n",
       "4  California                    53   531   524       1055  2017"
      ]
     },
     "execution_count": 5,
     "metadata": {},
     "output_type": "execute_result"
    }
   ],
   "source": [
    "sat.drop(columns='Unnamed: 0',inplace= True)\n",
    "sat.head()"
   ]
  },
  {
   "cell_type": "code",
   "execution_count": 6,
   "id": "2bff62b4",
   "metadata": {},
   "outputs": [
    {
     "data": {
      "text/html": [
       "<div>\n",
       "<style scoped>\n",
       "    .dataframe tbody tr th:only-of-type {\n",
       "        vertical-align: middle;\n",
       "    }\n",
       "\n",
       "    .dataframe tbody tr th {\n",
       "        vertical-align: top;\n",
       "    }\n",
       "\n",
       "    .dataframe thead th {\n",
       "        text-align: right;\n",
       "    }\n",
       "</style>\n",
       "<table border=\"1\" class=\"dataframe\">\n",
       "  <thead>\n",
       "    <tr style=\"text-align: right;\">\n",
       "      <th></th>\n",
       "      <th>Unnamed: 0</th>\n",
       "      <th>state</th>\n",
       "      <th>sat_participation(%)</th>\n",
       "      <th>ebrw</th>\n",
       "      <th>math</th>\n",
       "      <th>sat_total</th>\n",
       "      <th>year</th>\n",
       "    </tr>\n",
       "  </thead>\n",
       "  <tbody>\n",
       "    <tr>\n",
       "      <th>0</th>\n",
       "      <td>0</td>\n",
       "      <td>Alabama</td>\n",
       "      <td>5</td>\n",
       "      <td>593</td>\n",
       "      <td>572</td>\n",
       "      <td>1165</td>\n",
       "      <td>2017</td>\n",
       "    </tr>\n",
       "    <tr>\n",
       "      <th>1</th>\n",
       "      <td>1</td>\n",
       "      <td>Alaska</td>\n",
       "      <td>38</td>\n",
       "      <td>547</td>\n",
       "      <td>533</td>\n",
       "      <td>1080</td>\n",
       "      <td>2017</td>\n",
       "    </tr>\n",
       "    <tr>\n",
       "      <th>2</th>\n",
       "      <td>2</td>\n",
       "      <td>Arizona</td>\n",
       "      <td>30</td>\n",
       "      <td>563</td>\n",
       "      <td>553</td>\n",
       "      <td>1116</td>\n",
       "      <td>2017</td>\n",
       "    </tr>\n",
       "    <tr>\n",
       "      <th>3</th>\n",
       "      <td>3</td>\n",
       "      <td>Arkansas</td>\n",
       "      <td>3</td>\n",
       "      <td>614</td>\n",
       "      <td>594</td>\n",
       "      <td>1208</td>\n",
       "      <td>2017</td>\n",
       "    </tr>\n",
       "    <tr>\n",
       "      <th>4</th>\n",
       "      <td>4</td>\n",
       "      <td>California</td>\n",
       "      <td>53</td>\n",
       "      <td>531</td>\n",
       "      <td>524</td>\n",
       "      <td>1055</td>\n",
       "      <td>2017</td>\n",
       "    </tr>\n",
       "  </tbody>\n",
       "</table>\n",
       "</div>"
      ],
      "text/plain": [
       "   Unnamed: 0       state  sat_participation(%)  ebrw  math  sat_total  year\n",
       "0           0     Alabama                     5   593   572       1165  2017\n",
       "1           1      Alaska                    38   547   533       1080  2017\n",
       "2           2     Arizona                    30   563   553       1116  2017\n",
       "3           3    Arkansas                     3   614   594       1208  2017\n",
       "4           4  California                    53   531   524       1055  2017"
      ]
     },
     "execution_count": 6,
     "metadata": {},
     "output_type": "execute_result"
    }
   ],
   "source": [
    "act.head()"
   ]
  },
  {
   "cell_type": "code",
   "execution_count": 7,
   "id": "db87a526",
   "metadata": {},
   "outputs": [
    {
     "data": {
      "text/html": [
       "<div>\n",
       "<style scoped>\n",
       "    .dataframe tbody tr th:only-of-type {\n",
       "        vertical-align: middle;\n",
       "    }\n",
       "\n",
       "    .dataframe tbody tr th {\n",
       "        vertical-align: top;\n",
       "    }\n",
       "\n",
       "    .dataframe thead th {\n",
       "        text-align: right;\n",
       "    }\n",
       "</style>\n",
       "<table border=\"1\" class=\"dataframe\">\n",
       "  <thead>\n",
       "    <tr style=\"text-align: right;\">\n",
       "      <th></th>\n",
       "      <th>state</th>\n",
       "      <th>sat_participation(%)</th>\n",
       "      <th>ebrw</th>\n",
       "      <th>math</th>\n",
       "      <th>sat_total</th>\n",
       "      <th>year</th>\n",
       "    </tr>\n",
       "  </thead>\n",
       "  <tbody>\n",
       "    <tr>\n",
       "      <th>0</th>\n",
       "      <td>Alabama</td>\n",
       "      <td>5</td>\n",
       "      <td>593</td>\n",
       "      <td>572</td>\n",
       "      <td>1165</td>\n",
       "      <td>2017</td>\n",
       "    </tr>\n",
       "    <tr>\n",
       "      <th>1</th>\n",
       "      <td>Alaska</td>\n",
       "      <td>38</td>\n",
       "      <td>547</td>\n",
       "      <td>533</td>\n",
       "      <td>1080</td>\n",
       "      <td>2017</td>\n",
       "    </tr>\n",
       "    <tr>\n",
       "      <th>2</th>\n",
       "      <td>Arizona</td>\n",
       "      <td>30</td>\n",
       "      <td>563</td>\n",
       "      <td>553</td>\n",
       "      <td>1116</td>\n",
       "      <td>2017</td>\n",
       "    </tr>\n",
       "    <tr>\n",
       "      <th>3</th>\n",
       "      <td>Arkansas</td>\n",
       "      <td>3</td>\n",
       "      <td>614</td>\n",
       "      <td>594</td>\n",
       "      <td>1208</td>\n",
       "      <td>2017</td>\n",
       "    </tr>\n",
       "    <tr>\n",
       "      <th>4</th>\n",
       "      <td>California</td>\n",
       "      <td>53</td>\n",
       "      <td>531</td>\n",
       "      <td>524</td>\n",
       "      <td>1055</td>\n",
       "      <td>2017</td>\n",
       "    </tr>\n",
       "  </tbody>\n",
       "</table>\n",
       "</div>"
      ],
      "text/plain": [
       "        state  sat_participation(%)  ebrw  math  sat_total  year\n",
       "0     Alabama                     5   593   572       1165  2017\n",
       "1      Alaska                    38   547   533       1080  2017\n",
       "2     Arizona                    30   563   553       1116  2017\n",
       "3    Arkansas                     3   614   594       1208  2017\n",
       "4  California                    53   531   524       1055  2017"
      ]
     },
     "execution_count": 7,
     "metadata": {},
     "output_type": "execute_result"
    }
   ],
   "source": [
    "act.drop(columns='Unnamed: 0',inplace= True)\n",
    "act.head()"
   ]
  },
  {
   "cell_type": "code",
   "execution_count": 8,
   "id": "4662d5ba",
   "metadata": {},
   "outputs": [
    {
     "data": {
      "text/html": [
       "<div>\n",
       "<style scoped>\n",
       "    .dataframe tbody tr th:only-of-type {\n",
       "        vertical-align: middle;\n",
       "    }\n",
       "\n",
       "    .dataframe tbody tr th {\n",
       "        vertical-align: top;\n",
       "    }\n",
       "\n",
       "    .dataframe thead th {\n",
       "        text-align: right;\n",
       "    }\n",
       "</style>\n",
       "<table border=\"1\" class=\"dataframe\">\n",
       "  <thead>\n",
       "    <tr style=\"text-align: right;\">\n",
       "      <th></th>\n",
       "      <th>Unnamed: 0</th>\n",
       "      <th>state</th>\n",
       "      <th>sat_participation(%)</th>\n",
       "      <th>sat_total</th>\n",
       "      <th>year</th>\n",
       "      <th>act_participation(%)</th>\n",
       "      <th>act_total</th>\n",
       "      <th>test_policy</th>\n",
       "    </tr>\n",
       "  </thead>\n",
       "  <tbody>\n",
       "    <tr>\n",
       "      <th>0</th>\n",
       "      <td>0</td>\n",
       "      <td>Alabama</td>\n",
       "      <td>5</td>\n",
       "      <td>1165</td>\n",
       "      <td>2017</td>\n",
       "      <td>100</td>\n",
       "      <td>19.2</td>\n",
       "      <td>ACT required</td>\n",
       "    </tr>\n",
       "    <tr>\n",
       "      <th>1</th>\n",
       "      <td>1</td>\n",
       "      <td>Alaska</td>\n",
       "      <td>38</td>\n",
       "      <td>1080</td>\n",
       "      <td>2017</td>\n",
       "      <td>65</td>\n",
       "      <td>19.8</td>\n",
       "      <td>neither required</td>\n",
       "    </tr>\n",
       "    <tr>\n",
       "      <th>2</th>\n",
       "      <td>2</td>\n",
       "      <td>Arizona</td>\n",
       "      <td>30</td>\n",
       "      <td>1116</td>\n",
       "      <td>2017</td>\n",
       "      <td>62</td>\n",
       "      <td>19.7</td>\n",
       "      <td>neither required</td>\n",
       "    </tr>\n",
       "    <tr>\n",
       "      <th>3</th>\n",
       "      <td>3</td>\n",
       "      <td>Arkansas</td>\n",
       "      <td>3</td>\n",
       "      <td>1208</td>\n",
       "      <td>2017</td>\n",
       "      <td>100</td>\n",
       "      <td>19.4</td>\n",
       "      <td>neither required</td>\n",
       "    </tr>\n",
       "    <tr>\n",
       "      <th>4</th>\n",
       "      <td>4</td>\n",
       "      <td>California</td>\n",
       "      <td>53</td>\n",
       "      <td>1055</td>\n",
       "      <td>2017</td>\n",
       "      <td>31</td>\n",
       "      <td>22.8</td>\n",
       "      <td>neither required</td>\n",
       "    </tr>\n",
       "  </tbody>\n",
       "</table>\n",
       "</div>"
      ],
      "text/plain": [
       "   Unnamed: 0       state  sat_participation(%)  sat_total  year  \\\n",
       "0           0     Alabama                     5       1165  2017   \n",
       "1           1      Alaska                    38       1080  2017   \n",
       "2           2     Arizona                    30       1116  2017   \n",
       "3           3    Arkansas                     3       1208  2017   \n",
       "4           4  California                    53       1055  2017   \n",
       "\n",
       "   act_participation(%)  act_total       test_policy  \n",
       "0                   100       19.2      ACT required  \n",
       "1                    65       19.8  neither required  \n",
       "2                    62       19.7  neither required  \n",
       "3                   100       19.4  neither required  \n",
       "4                    31       22.8  neither required  "
      ]
     },
     "execution_count": 8,
     "metadata": {},
     "output_type": "execute_result"
    }
   ],
   "source": [
    "act_and_sat.head()"
   ]
  },
  {
   "cell_type": "code",
   "execution_count": 9,
   "id": "be9620d0",
   "metadata": {
    "scrolled": true
   },
   "outputs": [
    {
     "data": {
      "text/html": [
       "<div>\n",
       "<style scoped>\n",
       "    .dataframe tbody tr th:only-of-type {\n",
       "        vertical-align: middle;\n",
       "    }\n",
       "\n",
       "    .dataframe tbody tr th {\n",
       "        vertical-align: top;\n",
       "    }\n",
       "\n",
       "    .dataframe thead th {\n",
       "        text-align: right;\n",
       "    }\n",
       "</style>\n",
       "<table border=\"1\" class=\"dataframe\">\n",
       "  <thead>\n",
       "    <tr style=\"text-align: right;\">\n",
       "      <th></th>\n",
       "      <th>state</th>\n",
       "      <th>sat_participation(%)</th>\n",
       "      <th>sat_total</th>\n",
       "      <th>year</th>\n",
       "      <th>act_participation(%)</th>\n",
       "      <th>act_total</th>\n",
       "      <th>test_policy</th>\n",
       "    </tr>\n",
       "  </thead>\n",
       "  <tbody>\n",
       "    <tr>\n",
       "      <th>0</th>\n",
       "      <td>Alabama</td>\n",
       "      <td>5</td>\n",
       "      <td>1165</td>\n",
       "      <td>2017</td>\n",
       "      <td>100</td>\n",
       "      <td>19.2</td>\n",
       "      <td>ACT required</td>\n",
       "    </tr>\n",
       "    <tr>\n",
       "      <th>1</th>\n",
       "      <td>Alaska</td>\n",
       "      <td>38</td>\n",
       "      <td>1080</td>\n",
       "      <td>2017</td>\n",
       "      <td>65</td>\n",
       "      <td>19.8</td>\n",
       "      <td>neither required</td>\n",
       "    </tr>\n",
       "    <tr>\n",
       "      <th>2</th>\n",
       "      <td>Arizona</td>\n",
       "      <td>30</td>\n",
       "      <td>1116</td>\n",
       "      <td>2017</td>\n",
       "      <td>62</td>\n",
       "      <td>19.7</td>\n",
       "      <td>neither required</td>\n",
       "    </tr>\n",
       "    <tr>\n",
       "      <th>3</th>\n",
       "      <td>Arkansas</td>\n",
       "      <td>3</td>\n",
       "      <td>1208</td>\n",
       "      <td>2017</td>\n",
       "      <td>100</td>\n",
       "      <td>19.4</td>\n",
       "      <td>neither required</td>\n",
       "    </tr>\n",
       "    <tr>\n",
       "      <th>4</th>\n",
       "      <td>California</td>\n",
       "      <td>53</td>\n",
       "      <td>1055</td>\n",
       "      <td>2017</td>\n",
       "      <td>31</td>\n",
       "      <td>22.8</td>\n",
       "      <td>neither required</td>\n",
       "    </tr>\n",
       "  </tbody>\n",
       "</table>\n",
       "</div>"
      ],
      "text/plain": [
       "        state  sat_participation(%)  sat_total  year  act_participation(%)  \\\n",
       "0     Alabama                     5       1165  2017                   100   \n",
       "1      Alaska                    38       1080  2017                    65   \n",
       "2     Arizona                    30       1116  2017                    62   \n",
       "3    Arkansas                     3       1208  2017                   100   \n",
       "4  California                    53       1055  2017                    31   \n",
       "\n",
       "   act_total       test_policy  \n",
       "0       19.2      ACT required  \n",
       "1       19.8  neither required  \n",
       "2       19.7  neither required  \n",
       "3       19.4  neither required  \n",
       "4       22.8  neither required  "
      ]
     },
     "execution_count": 9,
     "metadata": {},
     "output_type": "execute_result"
    }
   ],
   "source": [
    "act_and_sat.drop(columns='Unnamed: 0',inplace= True)\n",
    "act_and_sat.head()"
   ]
  },
  {
   "cell_type": "markdown",
   "id": "cfd365a1",
   "metadata": {},
   "source": [
    "### National level Analysis"
   ]
  },
  {
   "cell_type": "code",
   "execution_count": 10,
   "id": "cf2aa9f3",
   "metadata": {},
   "outputs": [
    {
     "data": {
      "text/html": [
       "<div>\n",
       "<style scoped>\n",
       "    .dataframe tbody tr th:only-of-type {\n",
       "        vertical-align: middle;\n",
       "    }\n",
       "\n",
       "    .dataframe tbody tr th {\n",
       "        vertical-align: top;\n",
       "    }\n",
       "\n",
       "    .dataframe thead th {\n",
       "        text-align: right;\n",
       "    }\n",
       "</style>\n",
       "<table border=\"1\" class=\"dataframe\">\n",
       "  <thead>\n",
       "    <tr style=\"text-align: right;\">\n",
       "      <th></th>\n",
       "      <th>sat_participation(%)</th>\n",
       "      <th>act_participation(%)</th>\n",
       "    </tr>\n",
       "    <tr>\n",
       "      <th>test_policy</th>\n",
       "      <th></th>\n",
       "      <th></th>\n",
       "    </tr>\n",
       "  </thead>\n",
       "  <tbody>\n",
       "    <tr>\n",
       "      <th>ACT or SAT</th>\n",
       "      <td>40.000000</td>\n",
       "      <td>75.555556</td>\n",
       "    </tr>\n",
       "    <tr>\n",
       "      <th>ACT required</th>\n",
       "      <td>12.404762</td>\n",
       "      <td>98.023810</td>\n",
       "    </tr>\n",
       "    <tr>\n",
       "      <th>SAT required</th>\n",
       "      <td>85.481481</td>\n",
       "      <td>30.555556</td>\n",
       "    </tr>\n",
       "    <tr>\n",
       "      <th>neither required</th>\n",
       "      <td>49.013333</td>\n",
       "      <td>51.280000</td>\n",
       "    </tr>\n",
       "  </tbody>\n",
       "</table>\n",
       "</div>"
      ],
      "text/plain": [
       "                  sat_participation(%)  act_participation(%)\n",
       "test_policy                                                 \n",
       "ACT or SAT                   40.000000             75.555556\n",
       "ACT required                 12.404762             98.023810\n",
       "SAT required                 85.481481             30.555556\n",
       "neither required             49.013333             51.280000"
      ]
     },
     "execution_count": 10,
     "metadata": {},
     "output_type": "execute_result"
    }
   ],
   "source": [
    "act_and_sat.groupby(['test_policy'])[[\"sat_participation(%)\",\n",
    "                                      \"act_participation(%)\"]].mean()\n",
    "                                      \n",
    "            "
   ]
  },
  {
   "cell_type": "code",
   "execution_count": 11,
   "id": "b807f9a2",
   "metadata": {},
   "outputs": [
    {
     "data": {
      "image/png": "[encoded data removed]",
      "text/plain": [
       "<Figure size 432x288 with 1 Axes>"
      ]
     },
     "metadata": {
      "needs_background": "light"
     },
     "output_type": "display_data"
    }
   ],
   "source": [
    "plt.rcParams[\"figure.figsize\"] = (10,8)\n",
    "#plt.figure(figsize=(10,7))\n",
    "act_and_sat.groupby(['test_policy'])[[\"sat_participation(%)\",\"act_participation(%)\"]].mean().plot(kind='bar')\n",
    "plt.title(\"SAT and ACT Average Participation Rates by Test Policy\",fontsize=20)\n",
    "plt.xlabel(\"Test Policy\",fontsize=16)\n",
    "plt.ylabel(\"Avg Participation Rate (2017-2019)\", fontsize=16)\n",
    "plt.savefig(\"SAT and ACT Average Participation Rates by Test Policy\")\n",
    "                                      "
   ]
  },
  {
   "cell_type": "markdown",
   "id": "f40faeae",
   "metadata": {},
   "source": [
    "- As expected, avg participation rates in the ACTs and SATs respectively were highest in states where each exam is mandatory.\n",
    "- In states where students must take at least one of the exams, the act recorded higher participation, showing that more students likely opted to take the ACTs.\n",
    "- Also in states were none of the exams are required, it appears that ACT was again prefered, although to a slight degree, compared with \"either or\" states. "
   ]
  },
  {
   "cell_type": "code",
   "execution_count": 12,
   "id": "5fb709f8",
   "metadata": {},
   "outputs": [
    {
     "data": {
      "text/html": [
       "<div>\n",
       "<style scoped>\n",
       "    .dataframe tbody tr th:only-of-type {\n",
       "        vertical-align: middle;\n",
       "    }\n",
       "\n",
       "    .dataframe tbody tr th {\n",
       "        vertical-align: top;\n",
       "    }\n",
       "\n",
       "    .dataframe thead th {\n",
       "        text-align: right;\n",
       "    }\n",
       "</style>\n",
       "<table border=\"1\" class=\"dataframe\">\n",
       "  <thead>\n",
       "    <tr style=\"text-align: right;\">\n",
       "      <th></th>\n",
       "      <th>test_policy</th>\n",
       "      <th>sat_total</th>\n",
       "    </tr>\n",
       "  </thead>\n",
       "  <tbody>\n",
       "    <tr>\n",
       "      <th>23</th>\n",
       "      <td>neither required</td>\n",
       "      <td>1295</td>\n",
       "    </tr>\n",
       "    <tr>\n",
       "      <th>49</th>\n",
       "      <td>ACT required</td>\n",
       "      <td>1291</td>\n",
       "    </tr>\n",
       "    <tr>\n",
       "      <th>15</th>\n",
       "      <td>neither required</td>\n",
       "      <td>1275</td>\n",
       "    </tr>\n",
       "    <tr>\n",
       "      <th>25</th>\n",
       "      <td>ACT required</td>\n",
       "      <td>1271</td>\n",
       "    </tr>\n",
       "    <tr>\n",
       "      <th>16</th>\n",
       "      <td>neither required</td>\n",
       "      <td>1260</td>\n",
       "    </tr>\n",
       "  </tbody>\n",
       "</table>\n",
       "</div>"
      ],
      "text/plain": [
       "         test_policy  sat_total\n",
       "23  neither required       1295\n",
       "49      ACT required       1291\n",
       "15  neither required       1275\n",
       "25      ACT required       1271\n",
       "16  neither required       1260"
      ]
     },
     "execution_count": 12,
     "metadata": {},
     "output_type": "execute_result"
    }
   ],
   "source": [
    "sat_scores_by_policy= act_and_sat[act_and_sat['year']==2017].sort_values(by=['sat_total'],ascending=False)[['test_policy','sat_total']]\n",
    "sat_scores_by_policy.head()\n",
    "\n",
    "\n",
    "\n"
   ]
  },
  {
   "cell_type": "code",
   "execution_count": 68,
   "id": "bdce49b3",
   "metadata": {},
   "outputs": [
    {
     "data": {
      "image/png": "[encoded data removed]",
      "text/plain": [
       "<Figure size 720x504 with 1 Axes>"
      ]
     },
     "metadata": {
      "needs_background": "light"
     },
     "output_type": "display_data"
    }
   ],
   "source": [
    "# plot\n",
    "#fig,ax = plt.rcParams[\"figure.figsize\"] = (15,8)\n",
    "fig,ax = plt.subplots()\n",
    "#bars\n",
    "bars=plt.barh(sat_scores_by_policy['test_policy'],sat_scores_by_policy['sat_total'],color=['c'])\n",
    "\n",
    "plt.gcf().set_size_inches(10,7)\n",
    "\n",
    "\n",
    "# format y-axis\n",
    "#plt.gca().yaxis.set_major_formatter(mtick.PercentFormatter(1,decimals = 0))\n",
    "\n",
    "# grid line\n",
    "plt.grid(axis = 'y',alpha = 0.45)\n",
    "\n",
    "# labels and title\n",
    "plt.title(\"SAT Scores by States' Test Policy\",fontsize=18)\n",
    "plt.ylabel('SAT Score',fontsize=16)\n",
    "plt.xlabel('Test Policy',fontsize=16)\n",
    "\n",
    "# add labels\n",
    "#plt.bar_label(\n",
    "  #bars,\n",
    "  #labels = ,\n",
    "  #padding = 10,\n",
    "  #fontsize = 14)\n",
    "\n",
    "\n",
    "# add a little graphic flair\n",
    "# rectangle first\n",
    "\n",
    "plt.gca().add_patch(\n",
    "    plt.Rectangle(\n",
    "        (-0.009,.95), # location\n",
    "        0.0125, # width\n",
    "        -0.13, # height\n",
    "        facecolor = 'tab:red',\n",
    "        transform = fig.transFigure,\n",
    "        clip_on = False,\n",
    "        linewidth = 0\n",
    "    )\n",
    ")\n",
    "\n",
    "# now the line\n",
    "plt.gca().plot(\n",
    "    [-0.049, .95], # length of line\n",
    "    [.82, .82], # height\n",
    "    transform = fig.transFigure,\n",
    "    clip_on = False,\n",
    "    color = 'tab:red', \n",
    "    linewidth = 3\n",
    ")\n",
    "\n",
    "\n",
    "plt.show()\n",
    "\n",
    "\n",
    "#Source: https://towardsdatascience.com/make-your-charts-look-glorious-9ce3fa310b70 "
   ]
  },
  {
   "cell_type": "code",
   "execution_count": null,
   "id": "21704d19",
   "metadata": {},
   "outputs": [],
   "source": [
    "act_and_sat[act_and_sat['year']==2018].sort_values(by=['sat_total'],ascending=False).head()"
   ]
  },
  {
   "cell_type": "code",
   "execution_count": null,
   "id": "bf4ce06f",
   "metadata": {},
   "outputs": [],
   "source": [
    "act_and_sat[act_and_sat['year']==2019].sort_values(by=['sat_total'],ascending=False).head()"
   ]
  },
  {
   "cell_type": "markdown",
   "id": "224856aa",
   "metadata": {},
   "source": [
    "Interestingly, the highest performing states in the SATs were states that either had no test requirement or\n",
    "required students to sit for the ACTs. The state of Minnesota recorded the highest SAT scores for the 3 years considered, but required neither exam. "
   ]
  },
  {
   "cell_type": "code",
   "execution_count": null,
   "id": "4685ada1",
   "metadata": {},
   "outputs": [],
   "source": [
    "act_and_sat[act_and_sat['year']==2017].sort_values(by=['sat_total'],ascending=True).head()"
   ]
  },
  {
   "cell_type": "code",
   "execution_count": null,
   "id": "5c416ff1",
   "metadata": {},
   "outputs": [],
   "source": [
    "act_and_sat[act_and_sat['year']==2018].sort_values(by=['sat_total'],ascending=True).head()"
   ]
  },
  {
   "cell_type": "code",
   "execution_count": null,
   "id": "798dc22e",
   "metadata": {},
   "outputs": [],
   "source": [
    "act_and_sat[act_and_sat['year']==2019].sort_values(by=['sat_total'],ascending=True).head()"
   ]
  },
  {
   "cell_type": "markdown",
   "id": "ecef9cf6",
   "metadata": {},
   "source": [
    "It appears there is no pattern for the least performing states as all 4 policies feature."
   ]
  },
  {
   "cell_type": "code",
   "execution_count": null,
   "id": "76a72bed",
   "metadata": {},
   "outputs": [],
   "source": [
    "act_and_sat[act_and_sat['year']==2017].sort_values(by=['act_total'],ascending=False).head()"
   ]
  },
  {
   "cell_type": "code",
   "execution_count": null,
   "id": "ec4340e9",
   "metadata": {},
   "outputs": [],
   "source": [
    "act_and_sat[act_and_sat['year']==2018].sort_values(by=['act_total'],ascending=False).head()"
   ]
  },
  {
   "cell_type": "code",
   "execution_count": null,
   "id": "da9d8e48",
   "metadata": {},
   "outputs": [],
   "source": [
    "act_and_sat[act_and_sat['year']==2019].sort_values(by=['act_total'],ascending=False).head()"
   ]
  },
  {
   "cell_type": "markdown",
   "id": "09c86574",
   "metadata": {},
   "source": [
    "Interestingly, the highest performing states in the ACTs were states that either had no test requirement or\n",
    "required students to sit for the SATS. "
   ]
  },
  {
   "cell_type": "code",
   "execution_count": null,
   "id": "dbf9be8f",
   "metadata": {},
   "outputs": [],
   "source": [
    "act_and_sat[act_and_sat['year']==2017].sort_values(by=['act_total'],ascending=True).head()"
   ]
  },
  {
   "cell_type": "code",
   "execution_count": null,
   "id": "7e0d6d5c",
   "metadata": {},
   "outputs": [],
   "source": [
    "act_and_sat[act_and_sat['year']==2018].sort_values(by=['act_total'],ascending=True).head()"
   ]
  },
  {
   "cell_type": "code",
   "execution_count": null,
   "id": "41a4702c",
   "metadata": {},
   "outputs": [],
   "source": [
    "act_and_sat[act_and_sat['year']==2019].sort_values(by=['act_total'],ascending=True).head()"
   ]
  },
  {
   "cell_type": "markdown",
   "id": "2d70ebe6",
   "metadata": {},
   "source": [
    "on the flip side, the bottom performers in the ACTs either required the ACT exam or none at all."
   ]
  },
  {
   "cell_type": "code",
   "execution_count": null,
   "id": "a7f7d6f3",
   "metadata": {},
   "outputs": [],
   "source": [
    "act_and_sat"
   ]
  },
  {
   "cell_type": "code",
   "execution_count": null,
   "id": "96bf9dc8",
   "metadata": {},
   "outputs": [],
   "source": [
    "act_and_sat.groupby(['year','test_policy'])[[\"sat_participation(%)\",\n",
    "                                      \"act_participation(%)\"]].mean()"
   ]
  },
  {
   "cell_type": "code",
   "execution_count": null,
   "id": "9cae88a4",
   "metadata": {},
   "outputs": [],
   "source": [
    "plt.rcParams[\"figure.figsize\"] = (10,8)\n",
    "\n",
    "act_and_sat[act_and_sat['test_policy']=='ACT required'].groupby(['year'])[[\"sat_participation(%)\",\n",
    "                                      \"act_participation(%)\"]].mean().plot(kind='bar')\n",
    "\n",
    "\n"
   ]
  },
  {
   "cell_type": "code",
   "execution_count": null,
   "id": "b56c4e8e",
   "metadata": {},
   "outputs": [],
   "source": [
    "act_and_sat.groupby(['test_policy'])[\"sat_total\"].mean().plot(kind)"
   ]
  },
  {
   "cell_type": "markdown",
   "id": "03e42841",
   "metadata": {},
   "source": [
    "- in "
   ]
  },
  {
   "cell_type": "code",
   "execution_count": null,
   "id": "14053662",
   "metadata": {},
   "outputs": [],
   "source": [
    "act_and_sat.groupby(['year'])['sat_total'].mean().plot(kind='bar')"
   ]
  },
  {
   "cell_type": "code",
   "execution_count": null,
   "id": "2238a4d5",
   "metadata": {},
   "outputs": [],
   "source": [
    "act_and_sat.groupby(['year'])['act_total'].mean().plot(kind='bar')"
   ]
  },
  {
   "cell_type": "markdown",
   "id": "e60c6078",
   "metadata": {},
   "source": [
    "Average total sat scores and act scores for all groups barely changed between 2017 and 2019."
   ]
  },
  {
   "cell_type": "code",
   "execution_count": null,
   "id": "2aa2e9ae",
   "metadata": {},
   "outputs": [],
   "source": [
    "act_and_sat.groupby(['test_policy','year'])['sat_total'].mean().plot(kind='barh')\n",
    "\n",
    "act_and_sat[act_and_sat['']]\n"
   ]
  },
  {
   "cell_type": "code",
   "execution_count": null,
   "id": "7ffae742",
   "metadata": {
    "scrolled": true
   },
   "outputs": [],
   "source": [
    "#view descriptive stats \n",
    "sat.agg(['mean','median'])"
   ]
  },
  {
   "cell_type": "code",
   "execution_count": null,
   "id": "aaaffb72",
   "metadata": {},
   "outputs": [],
   "source": [
    "#plot of national test scores\n",
    "sat.groupby(['year'])[['participation_rate (%)']].mean().plot(kind= 'bar')\n",
    "\n",
    "\n",
    "\n"
   ]
  },
  {
   "cell_type": "markdown",
   "id": "9827c919",
   "metadata": {},
   "source": [
    "Average national participation rate grew year on year."
   ]
  },
  {
   "cell_type": "code",
   "execution_count": null,
   "id": "b08164ac",
   "metadata": {
    "scrolled": false
   },
   "outputs": [],
   "source": [
    "#plot of national test scores\n",
    "sat.groupby(['year'])[['ebrw','math','total']].mean().plot(kind= 'bar')\n",
    "\n",
    "\n",
    "\n",
    "\n"
   ]
  },
  {
   "cell_type": "markdown",
   "id": "5f79f835",
   "metadata": {},
   "source": [
    "average national test scores remained fairly stable between 2017-2019."
   ]
  },
  {
   "cell_type": "markdown",
   "id": "8b704dd8",
   "metadata": {},
   "source": [
    "### Interesting Insights\n",
    "\n",
    "- median national participation rate between 2017-2019 was 44.9%\n",
    "- mean national participation rate between 2017-2019 was 50% i.e. about half the students in the country participated in the SAT's"
   ]
  },
  {
   "cell_type": "markdown",
   "id": "6a026937",
   "metadata": {},
   "source": [
    "## State Analysis"
   ]
  },
  {
   "cell_type": "code",
   "execution_count": null,
   "id": "95cd86f0",
   "metadata": {},
   "outputs": [],
   "source": [
    "sat.head()"
   ]
  },
  {
   "cell_type": "code",
   "execution_count": null,
   "id": "4c506a7b",
   "metadata": {},
   "outputs": [],
   "source": [
    "#states with highest participation rate in 2017\n",
    "sat[sat['year']==2017].sort_values('participation_rate (%)', \n",
    "                                   ascending=False).head(10)"
   ]
  },
  {
   "cell_type": "code",
   "execution_count": null,
   "id": "48c56abe",
   "metadata": {
    "scrolled": true
   },
   "outputs": [],
   "source": [
    "#states with highest participation rate in 2018\n",
    "sat[sat['year']==2018].sort_values('participation_rate (%)', \n",
    "                                   ascending=False).head(10)\n"
   ]
  },
  {
   "cell_type": "code",
   "execution_count": null,
   "id": "181e6eb8",
   "metadata": {},
   "outputs": [],
   "source": [
    "#states with highest participation rate in 2019\n",
    "sat[sat['year']==2019].sort_values('participation_rate (%)', \n",
    "                                   ascending=False).head(10)"
   ]
  },
  {
   "cell_type": "code",
   "execution_count": null,
   "id": "a0812b69",
   "metadata": {},
   "outputs": [],
   "source": [
    "#states with lowest participation rate in 2017\n",
    "sat[sat['year']==2017].sort_values('participation_rate (%)', \n",
    "                                   ascending=False).tail(10)"
   ]
  },
  {
   "cell_type": "code",
   "execution_count": null,
   "id": "7f47029b",
   "metadata": {},
   "outputs": [],
   "source": [
    "#states with lowest participation rate in 2018\n",
    "sat[sat['year']==2018].sort_values('participation_rate (%)', \n",
    "                                   ascending=False).tail(10)"
   ]
  },
  {
   "cell_type": "code",
   "execution_count": null,
   "id": "2b103daa",
   "metadata": {},
   "outputs": [],
   "source": [
    "#states with lowest participation rate in 2019\n",
    "sat[sat['year']==2019].sort_values('participation_rate (%)', \n",
    "                                   ascending=False).tail(10)"
   ]
  },
  {
   "cell_type": "code",
   "execution_count": null,
   "id": "80a92b80",
   "metadata": {},
   "outputs": [],
   "source": []
  },
  {
   "cell_type": "code",
   "execution_count": null,
   "id": "8a1345b1",
   "metadata": {},
   "outputs": [],
   "source": [
    "sat.sort_values('participation_rate (%)', ascending=False).head()"
   ]
  },
  {
   "cell_type": "code",
   "execution_count": null,
   "id": "c23372e6",
   "metadata": {},
   "outputs": [],
   "source": [
    "#view descriptive stats\n",
    "sat.describe()"
   ]
  },
  {
   "cell_type": "code",
   "execution_count": null,
   "id": "3c1da13f",
   "metadata": {},
   "outputs": [],
   "source": [
    "sat"
   ]
  },
  {
   "cell_type": "code",
   "execution_count": null,
   "id": "31385b96",
   "metadata": {},
   "outputs": [],
   "source": []
  },
  {
   "cell_type": "code",
   "execution_count": null,
   "id": "9fe8f22f",
   "metadata": {},
   "outputs": [],
   "source": []
  }
 ],
 "metadata": {
  "kernelspec": {
   "display_name": "Python 3",
   "language": "python",
   "name": "python3"
  },
  "language_info": {
   "codemirror_mode": {
    "name": "ipython",
    "version": 3
   },
   "file_extension": ".py",
   "mimetype": "text/x-python",
   "name": "python",
   "nbconvert_exporter": "python",
   "pygments_lexer": "ipython3",
   "version": "3.8.8"
  }
 },
 "nbformat": 4,
 "nbformat_minor": 5
}
